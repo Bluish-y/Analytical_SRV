{
 "cells": [
  {
   "cell_type": "code",
   "execution_count": 1,
   "metadata": {},
   "outputs": [],
   "source": [
    "import numpy as np\n",
    "import warnings\n",
    "from my_modules.helpers import *\n",
    "import my_modules.variables as vb\n",
    "import my_modules.direct_srv as ds\n",
    "import my_modules.analyticalsrv_func as asrv\n",
    "np.set_printoptions(suppress=True)"
   ]
  },
  {
   "cell_type": "code",
   "execution_count": 3,
   "metadata": {},
   "outputs": [],
   "source": [
    "ps = np.array([0.2791386,  0.28731193, 0.43354946])\n",
    "qs = np.array([0.39314196, 0.3746973,  0.23216074])\n",
    "#### derived variables #####\n",
    "srv_states = 3\n",
    "p_states = ps.shape[0]\n",
    "q_states = qs.shape[0]"
   ]
  },
  {
   "cell_type": "code",
   "execution_count": 4,
   "metadata": {},
   "outputs": [],
   "source": [
    "#### analytically calculated ####\n",
    "master_mat = np.concatenate((np.kron(np.eye(p_states), ps), np.kron(qs, np.eye(q_states))), axis = 0)\n",
    "pinv = np.linalg.pinv(master_mat)\n",
    "null_mat = np.eye(9) - np.dot(pinv, master_mat)\n",
    "pinv_nm = null_mat"
   ]
  },
  {
   "cell_type": "code",
   "execution_count": 14,
   "metadata": {},
   "outputs": [],
   "source": [
    "#### loop variables ####\n",
    "prev_srvs = []\n",
    "prev_sum = 0\n",
    "srvs = []\n",
    "# r_srvs, r_srv= vb.give_rick_srvs(ps,qs)\n",
    "# bs, target_marginal = vb.give_rick_bs(r_srv,ps,qs)\n",
    "# ws = vb.give_rick_ws(r_srvs, bs, pinv, pinv_nm)\n",
    "# print_info(r_srv, qs,ps)\n",
    "\n",
    "target_marginal = ps[::-1]\n",
    "bs = np.array([target*np.ones(p_states+q_states) for target in target_marginal])\n",
    "ws = [np.zeros(p_states*q_states)]*3\n",
    "ideals = [np.array([1,0,0,0,1,0,0,0,1]),\n",
    "          np.array([0,1,0,0,0,1,1,0,0]),\n",
    "          np.array([0,0,1,1,0,0,0,1,0])]\n",
    "for i in range(3):\n",
    "    ws[i] = np.dot(pinv_nm, (ideals[i] - target_marginal[i]))\n",
    "i_srv = asrv.generate_simple_srv(ps,qs,bs,ws,pinv,null_mat,master_mat)\n",
    "# print_info(i_srv, qs, ps)\n",
    "\n"
   ]
  },
  {
   "cell_type": "code",
   "execution_count": 15,
   "metadata": {},
   "outputs": [],
   "source": [
    "for i in range(0, srv_states-1):\n",
    "    #we find the solution assuming the solution['free_params'] = 0 and then solution['put_one_in'] = 1:\n",
    "    b,w = bs[i], ws[i]\n",
    "    solution = np.dot(pinv, b) + np.dot(null_mat, w)\n",
    "    solution[abs(solution)<1e-8] = 0\n",
    "    solution[abs(1-solution)<1e-8] = 1\n",
    "    \n",
    "\n",
    "    #The above step only works when the target_marginal is chosen wisely:\n",
    "    assert np.all(abs(np.dot(master_mat, solution)-bs[i])<1e-7)\n",
    "    \n",
    "\n",
    "    prev_sum += solution\n",
    "    prev_srvs.append(solution)\n",
    "    srvs.append(solution.reshape(q_states,p_states))\n",
    "prev_srvs.append(1-prev_sum)\n",
    "\n"
   ]
  },
  {
   "cell_type": "code",
   "execution_count": 16,
   "metadata": {},
   "outputs": [
    {
     "name": "stdout",
     "output_type": "stream",
     "text": [
      "\n",
      "Final marginals: [[0.43354946 0.28731193 0.2791386 ]\n",
      " [0.43354946 0.28731193 0.27913861]\n",
      " [0.43354946 0.28731193 0.2791386 ]\n",
      " [0.43354946 0.28731193 0.27913861]\n",
      " [0.43354946 0.28731193 0.2791386 ]\n",
      " [0.43354946 0.28731193 0.27913861]] \n",
      "\n",
      "\n",
      "Mutual info and entropy: nan 1.5535867470686835 \n",
      "\n",
      "\n",
      "Srv:\n",
      " [[[ 1.07590836  0.11716246 -0.19307082]\n",
      "  [ 0.09597224  0.93628875 -0.03226099]\n",
      "  [ 0.24368138 -0.0332132   0.78953181]]\n",
      "\n",
      " [[ 0.06755768 -0.00817012  0.94061244]\n",
      "  [ 1.08713559 -0.18367212  0.09653653]\n",
      "  [ 0.23606182  0.78967626 -0.02573808]]\n",
      "\n",
      " [[-0.06352901  1.05233889  0.01119012]\n",
      "  [-0.04965536 -0.0515204   1.10117576]\n",
      "  [ 1.07380928  0.01929642 -0.0931057 ]]] \n",
      " ps, and qs, end_marginal: array([0.2791386 , 0.28731193, 0.43354946]) ,  array([0.39314196, 0.3746973 , 0.23216074]) ,  array([0.43354946, 0.28731193, 0.2791386 ])\n"
     ]
    },
    {
     "ename": "AssertionError",
     "evalue": "average conditional entropy should be non-negative",
     "output_type": "error",
     "traceback": [
      "\u001b[0;31m---------------------------------------------------------------------------\u001b[0m",
      "\u001b[0;31mAssertionError\u001b[0m                            Traceback (most recent call last)",
      "Cell \u001b[0;32mIn[16], line 19\u001b[0m\n\u001b[1;32m     16\u001b[0m \u001b[38;5;28mprint\u001b[39m(\u001b[38;5;124m\"\u001b[39m\u001b[38;5;130;01m\\n\u001b[39;00m\u001b[38;5;124mMutual info and entropy:\u001b[39m\u001b[38;5;124m\"\u001b[39m, mutual_info, entropy, \u001b[38;5;124m\"\u001b[39m\u001b[38;5;130;01m\\n\u001b[39;00m\u001b[38;5;124m\"\u001b[39m)\n\u001b[1;32m     18\u001b[0m \u001b[38;5;28mprint\u001b[39m(\u001b[38;5;124m\"\u001b[39m\u001b[38;5;130;01m\\n\u001b[39;00m\u001b[38;5;124mSrv:\u001b[39m\u001b[38;5;130;01m\\n\u001b[39;00m\u001b[38;5;124m\"\u001b[39m,srv, \u001b[38;5;124m\"\u001b[39m\u001b[38;5;130;01m\\n\u001b[39;00m\u001b[38;5;124m ps, and qs, end_marginal:\u001b[39m\u001b[38;5;124m\"\u001b[39m, \u001b[38;5;28mrepr\u001b[39m(ps), \u001b[38;5;124m\"\u001b[39m\u001b[38;5;124m, \u001b[39m\u001b[38;5;124m\"\u001b[39m, \u001b[38;5;28mrepr\u001b[39m(qs), \u001b[38;5;124m\"\u001b[39m\u001b[38;5;124m, \u001b[39m\u001b[38;5;124m\"\u001b[39m, \u001b[38;5;28mrepr\u001b[39m(marginals[\u001b[38;5;241m0\u001b[39m]))\n\u001b[0;32m---> 19\u001b[0m \u001b[43mprint_info\u001b[49m\u001b[43m(\u001b[49m\u001b[43msrv\u001b[49m\u001b[43m,\u001b[49m\u001b[43m \u001b[49m\u001b[43mps\u001b[49m\u001b[43m,\u001b[49m\u001b[43m \u001b[49m\u001b[43mqs\u001b[49m\u001b[43m)\u001b[49m\n",
      "File \u001b[0;32m~/yashee/CoursesIntl/TS-2/Codes/analytical/my_modules/helpers.py:148\u001b[0m, in \u001b[0;36mprint_info\u001b[0;34m(srv, p, q)\u001b[0m\n\u001b[1;32m    146\u001b[0m \u001b[38;5;28;01mdef\u001b[39;00m \u001b[38;5;21mprint_info\u001b[39m(srv, p, q):\n\u001b[1;32m    147\u001b[0m     ps \u001b[38;5;241m=\u001b[39m [p,q]\n\u001b[0;32m--> 148\u001b[0m     \u001b[38;5;28mprint\u001b[39m(\u001b[38;5;124mf\u001b[39m\u001b[38;5;124m'\u001b[39m\u001b[38;5;124mI(S:X) = \u001b[39m\u001b[38;5;132;01m{\u001b[39;00m\u001b[43mds\u001b[49m\u001b[38;5;241;43m.\u001b[39;49m\u001b[43mmutual_information_srv_all_inputs\u001b[49m\u001b[43m(\u001b[49m\u001b[43msrv\u001b[49m\u001b[43m,\u001b[49m\u001b[38;5;250;43m \u001b[39;49m\u001b[43mps\u001b[49m\u001b[43m)\u001b[49m\u001b[38;5;132;01m:\u001b[39;00m\u001b[38;5;124m.2f\u001b[39m\u001b[38;5;132;01m}\u001b[39;00m\u001b[38;5;124m. \u001b[39m\u001b[38;5;124m'\u001b[39m \n\u001b[1;32m    149\u001b[0m       \u001b[38;5;241m+\u001b[39m \u001b[38;5;124mf\u001b[39m\u001b[38;5;124m'\u001b[39m\u001b[38;5;124mH(X_i)=\u001b[39m\u001b[38;5;132;01m{\u001b[39;00m[\u001b[38;5;124mf\u001b[39m\u001b[38;5;124m\"\u001b[39m\u001b[38;5;132;01m{\u001b[39;00mds\u001b[38;5;241m.\u001b[39mentropy_input(xix,\u001b[38;5;250m \u001b[39mps)\u001b[38;5;132;01m:\u001b[39;00m\u001b[38;5;124m.2f\u001b[39m\u001b[38;5;132;01m}\u001b[39;00m\u001b[38;5;124m\"\u001b[39m\u001b[38;5;250m \u001b[39m\u001b[38;5;28;01mfor\u001b[39;00m\u001b[38;5;250m \u001b[39mxix\u001b[38;5;250m \u001b[39m\u001b[38;5;129;01min\u001b[39;00m\u001b[38;5;250m \u001b[39m\u001b[38;5;28mrange\u001b[39m(\u001b[38;5;28mlen\u001b[39m(ps))]\u001b[38;5;132;01m}\u001b[39;00m\u001b[38;5;124m'\u001b[39m\n\u001b[1;32m    150\u001b[0m       \u001b[38;5;241m+\u001b[39m \u001b[38;5;124mf\u001b[39m\u001b[38;5;124m'\u001b[39m\u001b[38;5;124m. I(S:X_i)=\u001b[39m\u001b[38;5;132;01m{\u001b[39;00m[\u001b[38;5;124mf\u001b[39m\u001b[38;5;124m\"\u001b[39m\u001b[38;5;132;01m{\u001b[39;00mds\u001b[38;5;241m.\u001b[39mmutual_information_srv_given_single_input(xix,\u001b[38;5;250m \u001b[39mps,\u001b[38;5;250m \u001b[39msrv)\u001b[38;5;132;01m:\u001b[39;00m\u001b[38;5;124m.5f\u001b[39m\u001b[38;5;132;01m}\u001b[39;00m\u001b[38;5;124m\"\u001b[39m\u001b[38;5;250m \u001b[39m\u001b[38;5;28;01mfor\u001b[39;00m\u001b[38;5;250m \u001b[39mxix\u001b[38;5;250m \u001b[39m\u001b[38;5;129;01min\u001b[39;00m\u001b[38;5;250m \u001b[39m\u001b[38;5;28mrange\u001b[39m(\u001b[38;5;28mlen\u001b[39m(ps))]\u001b[38;5;132;01m}\u001b[39;00m\u001b[38;5;124m'\u001b[39m)\n",
      "File \u001b[0;32m~/yashee/CoursesIntl/TS-2/Codes/analytical/my_modules/direct_srv.py:237\u001b[0m, in \u001b[0;36mmutual_information_srv_all_inputs\u001b[0;34m(srv_ps, ps, _precomp_marginal_srv_probs)\u001b[0m\n\u001b[1;32m    234\u001b[0m condH \u001b[38;5;241m=\u001b[39m conditional_entropy_srv_all_inputs(srv_ps\u001b[38;5;241m=\u001b[39msrv_ps, ps\u001b[38;5;241m=\u001b[39mps)\n\u001b[1;32m    236\u001b[0m \u001b[38;5;28;01massert\u001b[39;00m totH \u001b[38;5;241m>\u001b[39m\u001b[38;5;241m=\u001b[39m \u001b[38;5;241m-\u001b[39m\u001b[38;5;241m1e7\u001b[39m, \u001b[38;5;124m'\u001b[39m\u001b[38;5;124mentropy should be non-negative\u001b[39m\u001b[38;5;124m'\u001b[39m\n\u001b[0;32m--> 237\u001b[0m \u001b[38;5;28;01massert\u001b[39;00m condH \u001b[38;5;241m>\u001b[39m\u001b[38;5;241m=\u001b[39m \u001b[38;5;241m-\u001b[39m\u001b[38;5;241m1e7\u001b[39m, \u001b[38;5;124m'\u001b[39m\u001b[38;5;124maverage conditional entropy should be non-negative\u001b[39m\u001b[38;5;124m'\u001b[39m\n\u001b[1;32m    238\u001b[0m \u001b[38;5;28;01massert\u001b[39;00m totH \u001b[38;5;241m>\u001b[39m\u001b[38;5;241m=\u001b[39m condH, \u001b[38;5;124m'\u001b[39m\u001b[38;5;124mH(X) should be larger or equal to H(X|Y) for any Y\u001b[39m\u001b[38;5;124m'\u001b[39m\n\u001b[1;32m    240\u001b[0m \u001b[38;5;28;01mreturn\u001b[39;00m totH \u001b[38;5;241m-\u001b[39m condH\n",
      "\u001b[0;31mAssertionError\u001b[0m: average conditional entropy should be non-negative"
     ]
    }
   ],
   "source": [
    "#calculate the last element of the srvs##\n",
    "A, B, C = impurify(srvs[0], srvs[1], (1-prev_sum).reshape(3,3), do_it = 0)\n",
    "srvs.append(C)\n",
    "## ----------------------------------##\n",
    "\n",
    "#### finallyyyy ####\n",
    "srv = np.concatenate([matrix[..., np.newaxis] for matrix in srvs], axis=2)\n",
    "srv[abs(srv)< 1e-13] = 0\n",
    "##----------------#\n",
    "marginals = calculate_marginals(srv, ps, qs).reshape(6,3)\n",
    "print(\"\\nFinal marginals:\", marginals,'\\n')\n",
    "any_mismatch = np.any(abs(marginals - marginals[0])>1e-2, axis=1)\n",
    "generate_uhoh(not np.any(any_mismatch))\n",
    "\n",
    "mutual_info, entropy = calculate_mutual_info(srv, ps,qs, srv_states)\n",
    "print(\"\\nMutual info and entropy:\", mutual_info, entropy, \"\\n\")\n",
    "\n",
    "print(\"\\nSrv:\\n\",srv, \"\\n ps, and qs, end_marginal:\", repr(ps), \", \", repr(qs), \", \", repr(marginals[0]))\n",
    "print_info(srv, ps, qs)"
   ]
  }
 ],
 "metadata": {
  "kernelspec": {
   "display_name": "Python 3",
   "language": "python",
   "name": "python3"
  },
  "language_info": {
   "codemirror_mode": {
    "name": "ipython",
    "version": 3
   },
   "file_extension": ".py",
   "mimetype": "text/x-python",
   "name": "python",
   "nbconvert_exporter": "python",
   "pygments_lexer": "ipython3",
   "version": "3.10.12"
  }
 },
 "nbformat": 4,
 "nbformat_minor": 2
}
